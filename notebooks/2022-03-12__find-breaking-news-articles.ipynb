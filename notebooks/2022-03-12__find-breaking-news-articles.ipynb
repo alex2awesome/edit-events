{
 "cells": [
  {
   "cell_type": "code",
   "execution_count": 1,
   "metadata": {},
   "outputs": [],
   "source": [
    "import pandas as pd\n",
    "import sqlite3\n",
    "import matplotlib.pyplot as plt\n",
    "import sys\n",
    "sys.path.insert(0, '../../edit-pathways/')\n",
    "from util import util_data_fetching_for_app as udf\n",
    "from importlib import reload\n",
    "reload(udf)"
   ]
  },
  {
   "cell_type": "code",
   "execution_count": 3,
   "metadata": {},
   "outputs": [],
   "source": [
    "data_pathway = \"../../edit-pathways/data/diffengine-diffs/spark-output/\""
   ]
  },
  {
   "cell_type": "code",
   "execution_count": 11,
   "metadata": {},
   "outputs": [],
   "source": [
    "! gunzip $data_pathway/ap-matched-sentences.db.gz "
   ]
  },
  {
   "cell_type": "code",
   "execution_count": 4,
   "metadata": {},
   "outputs": [
    {
     "data": {
      "text/html": [
       "<div>\n",
       "<style scoped>\n",
       "    .dataframe tbody tr th:only-of-type {\n",
       "        vertical-align: middle;\n",
       "    }\n",
       "\n",
       "    .dataframe tbody tr th {\n",
       "        vertical-align: top;\n",
       "    }\n",
       "\n",
       "    .dataframe thead th {\n",
       "        text-align: right;\n",
       "    }\n",
       "</style>\n",
       "<table border=\"1\" class=\"dataframe\">\n",
       "  <thead>\n",
       "    <tr style=\"text-align: right;\">\n",
       "      <th></th>\n",
       "      <th>type</th>\n",
       "      <th>name</th>\n",
       "      <th>tbl_name</th>\n",
       "      <th>rootpage</th>\n",
       "      <th>sql</th>\n",
       "    </tr>\n",
       "  </thead>\n",
       "  <tbody>\n",
       "    <tr>\n",
       "      <th>0</th>\n",
       "      <td>table</td>\n",
       "      <td>matched_sentences</td>\n",
       "      <td>matched_sentences</td>\n",
       "      <td>2</td>\n",
       "      <td>CREATE TABLE \"matched_sentences\" (\\n\"entry_id\"...</td>\n",
       "    </tr>\n",
       "    <tr>\n",
       "      <th>1</th>\n",
       "      <td>table</td>\n",
       "      <td>split_sentences</td>\n",
       "      <td>split_sentences</td>\n",
       "      <td>11522</td>\n",
       "      <td>CREATE TABLE \"split_sentences\" (\\n\"entry_id\" I...</td>\n",
       "    </tr>\n",
       "  </tbody>\n",
       "</table>\n",
       "</div>"
      ],
      "text/plain": [
       "    type               name           tbl_name  rootpage  \\\n",
       "0  table  matched_sentences  matched_sentences         2   \n",
       "1  table    split_sentences    split_sentences     11522   \n",
       "\n",
       "                                                 sql  \n",
       "0  CREATE TABLE \"matched_sentences\" (\\n\"entry_id\"...  \n",
       "1  CREATE TABLE \"split_sentences\" (\\n\"entry_id\" I...  "
      ]
     },
     "execution_count": 4,
     "metadata": {},
     "output_type": "execute_result"
    }
   ],
   "source": [
    "conn = sqlite3.connect(data_pathway + 'ap-matched-sentences.db')\n",
    "pd.read_sql('SELECT * FROM sqlite_master;', con=conn)"
   ]
  },
  {
   "cell_type": "code",
   "execution_count": 5,
   "metadata": {},
   "outputs": [
    {
     "data": {
      "text/html": [
       "<div>\n",
       "<style scoped>\n",
       "    .dataframe tbody tr th:only-of-type {\n",
       "        vertical-align: middle;\n",
       "    }\n",
       "\n",
       "    .dataframe tbody tr th {\n",
       "        vertical-align: top;\n",
       "    }\n",
       "\n",
       "    .dataframe thead th {\n",
       "        text-align: right;\n",
       "    }\n",
       "</style>\n",
       "<table border=\"1\" class=\"dataframe\">\n",
       "  <thead>\n",
       "    <tr style=\"text-align: right;\">\n",
       "      <th></th>\n",
       "      <th>entry_id</th>\n",
       "      <th>version_x</th>\n",
       "      <th>version_y</th>\n",
       "      <th>sent_idx_x</th>\n",
       "      <th>sent_idx_y</th>\n",
       "      <th>avg_sentence_distance_x</th>\n",
       "      <th>avg_sentence_distance_y</th>\n",
       "    </tr>\n",
       "  </thead>\n",
       "  <tbody>\n",
       "    <tr>\n",
       "      <th>0</th>\n",
       "      <td>3876</td>\n",
       "      <td>2</td>\n",
       "      <td>3</td>\n",
       "      <td>6.0</td>\n",
       "      <td>12.0</td>\n",
       "      <td>2.548959e-07</td>\n",
       "      <td>2.548959e-07</td>\n",
       "    </tr>\n",
       "    <tr>\n",
       "      <th>1</th>\n",
       "      <td>3902</td>\n",
       "      <td>21</td>\n",
       "      <td>22</td>\n",
       "      <td>4.0</td>\n",
       "      <td>NaN</td>\n",
       "      <td>NaN</td>\n",
       "      <td>NaN</td>\n",
       "    </tr>\n",
       "  </tbody>\n",
       "</table>\n",
       "</div>"
      ],
      "text/plain": [
       "   entry_id  version_x  version_y  sent_idx_x  sent_idx_y  \\\n",
       "0      3876          2          3         6.0        12.0   \n",
       "1      3902         21         22         4.0         NaN   \n",
       "\n",
       "   avg_sentence_distance_x  avg_sentence_distance_y  \n",
       "0             2.548959e-07             2.548959e-07  \n",
       "1                      NaN                      NaN  "
      ]
     },
     "execution_count": 5,
     "metadata": {},
     "output_type": "execute_result"
    }
   ],
   "source": [
    "pd.read_sql('select * from matched_sentences limit 2', con=conn)"
   ]
  },
  {
   "cell_type": "code",
   "execution_count": 6,
   "metadata": {},
   "outputs": [
    {
     "data": {
      "text/html": [
       "<div>\n",
       "<style scoped>\n",
       "    .dataframe tbody tr th:only-of-type {\n",
       "        vertical-align: middle;\n",
       "    }\n",
       "\n",
       "    .dataframe tbody tr th {\n",
       "        vertical-align: top;\n",
       "    }\n",
       "\n",
       "    .dataframe thead th {\n",
       "        text-align: right;\n",
       "    }\n",
       "</style>\n",
       "<table border=\"1\" class=\"dataframe\">\n",
       "  <thead>\n",
       "    <tr style=\"text-align: right;\">\n",
       "      <th></th>\n",
       "      <th>entry_id</th>\n",
       "      <th>version</th>\n",
       "      <th>sent_idx</th>\n",
       "      <th>sentence</th>\n",
       "    </tr>\n",
       "  </thead>\n",
       "  <tbody>\n",
       "    <tr>\n",
       "      <th>0</th>\n",
       "      <td>17808</td>\n",
       "      <td>4.0</td>\n",
       "      <td>0</td>\n",
       "      <td>&lt;p&gt; ATLANTA (AP) -- Bobby Brown often broke in...</td>\n",
       "    </tr>\n",
       "    <tr>\n",
       "      <th>1</th>\n",
       "      <td>17808</td>\n",
       "      <td>4.0</td>\n",
       "      <td>1</td>\n",
       "      <td>&lt;/p&gt; &lt;p&gt;\"You never really get over it,\" he sai...</td>\n",
       "    </tr>\n",
       "  </tbody>\n",
       "</table>\n",
       "</div>"
      ],
      "text/plain": [
       "   entry_id  version  sent_idx  \\\n",
       "0     17808      4.0         0   \n",
       "1     17808      4.0         1   \n",
       "\n",
       "                                            sentence  \n",
       "0  <p> ATLANTA (AP) -- Bobby Brown often broke in...  \n",
       "1  </p> <p>\"You never really get over it,\" he sai...  "
      ]
     },
     "execution_count": 6,
     "metadata": {},
     "output_type": "execute_result"
    }
   ],
   "source": [
    "pd.read_sql('select * from split_sentences limit 2', con=conn)"
   ]
  },
  {
   "cell_type": "markdown",
   "metadata": {},
   "source": [
    "# Find all documents that start small and grow"
   ]
  },
  {
   "cell_type": "code",
   "execution_count": 7,
   "metadata": {},
   "outputs": [
    {
     "data": {
      "text/html": [
       "<div>\n",
       "<style scoped>\n",
       "    .dataframe tbody tr th:only-of-type {\n",
       "        vertical-align: middle;\n",
       "    }\n",
       "\n",
       "    .dataframe tbody tr th {\n",
       "        vertical-align: top;\n",
       "    }\n",
       "\n",
       "    .dataframe thead th {\n",
       "        text-align: right;\n",
       "    }\n",
       "</style>\n",
       "<table border=\"1\" class=\"dataframe\">\n",
       "  <thead>\n",
       "    <tr style=\"text-align: right;\">\n",
       "      <th></th>\n",
       "      <th>entry_id</th>\n",
       "      <th>version_x</th>\n",
       "      <th>version_y</th>\n",
       "      <th>sent_idx_x</th>\n",
       "      <th>sent_idx_y</th>\n",
       "      <th>avg_sentence_distance_x</th>\n",
       "      <th>avg_sentence_distance_y</th>\n",
       "    </tr>\n",
       "  </thead>\n",
       "  <tbody>\n",
       "    <tr>\n",
       "      <th>0</th>\n",
       "      <td>3876</td>\n",
       "      <td>2</td>\n",
       "      <td>3</td>\n",
       "      <td>6.0</td>\n",
       "      <td>12.0</td>\n",
       "      <td>2.548959e-07</td>\n",
       "      <td>2.548959e-07</td>\n",
       "    </tr>\n",
       "    <tr>\n",
       "      <th>1</th>\n",
       "      <td>3902</td>\n",
       "      <td>21</td>\n",
       "      <td>22</td>\n",
       "      <td>4.0</td>\n",
       "      <td>NaN</td>\n",
       "      <td>NaN</td>\n",
       "      <td>NaN</td>\n",
       "    </tr>\n",
       "    <tr>\n",
       "      <th>2</th>\n",
       "      <td>3730</td>\n",
       "      <td>6</td>\n",
       "      <td>7</td>\n",
       "      <td>17.0</td>\n",
       "      <td>17.0</td>\n",
       "      <td>0.000000e+00</td>\n",
       "      <td>0.000000e+00</td>\n",
       "    </tr>\n",
       "    <tr>\n",
       "      <th>3</th>\n",
       "      <td>3572</td>\n",
       "      <td>5</td>\n",
       "      <td>6</td>\n",
       "      <td>35.0</td>\n",
       "      <td>NaN</td>\n",
       "      <td>NaN</td>\n",
       "      <td>NaN</td>\n",
       "    </tr>\n",
       "    <tr>\n",
       "      <th>4</th>\n",
       "      <td>4217</td>\n",
       "      <td>5</td>\n",
       "      <td>6</td>\n",
       "      <td>43.0</td>\n",
       "      <td>60.0</td>\n",
       "      <td>0.000000e+00</td>\n",
       "      <td>0.000000e+00</td>\n",
       "    </tr>\n",
       "  </tbody>\n",
       "</table>\n",
       "</div>"
      ],
      "text/plain": [
       "   entry_id  version_x  version_y  sent_idx_x  sent_idx_y  \\\n",
       "0      3876          2          3         6.0        12.0   \n",
       "1      3902         21         22         4.0         NaN   \n",
       "2      3730          6          7        17.0        17.0   \n",
       "3      3572          5          6        35.0         NaN   \n",
       "4      4217          5          6        43.0        60.0   \n",
       "\n",
       "   avg_sentence_distance_x  avg_sentence_distance_y  \n",
       "0             2.548959e-07             2.548959e-07  \n",
       "1                      NaN                      NaN  \n",
       "2             0.000000e+00             0.000000e+00  \n",
       "3                      NaN                      NaN  \n",
       "4             0.000000e+00             0.000000e+00  "
      ]
     },
     "execution_count": 7,
     "metadata": {},
     "output_type": "execute_result"
    }
   ],
   "source": [
    "pd.read_sql('select * from matched_sentences limit 5', con=conn)"
   ]
  },
  {
   "cell_type": "code",
   "execution_count": 8,
   "metadata": {},
   "outputs": [],
   "source": [
    "num_added_and_deleted = pd.read_sql('''\n",
    "    SELECT\n",
    "        entry_id,\n",
    "        version_x,\n",
    "        version_y,\n",
    "        COUNT(DISTINCT sent_idx_x) as num_sents_x,\n",
    "        COUNT(DISTINCT sent_idx_y) as num_sents_y,        \n",
    "        SUM(sent_idx_y IS NULL) as num_deleted,\n",
    "        SUM(sent_idx_x IS NULL) as num_added\n",
    "    FROM matched_sentences \n",
    "    GROUP BY entry_id, version_x, version_y\n",
    "''', con=conn).assign(growth=lambda df: df['num_added'] - df['num_deleted'])"
   ]
  },
  {
   "cell_type": "code",
   "execution_count": 38,
   "metadata": {},
   "outputs": [
    {
     "data": {
      "text/plain": [
       "[]"
      ]
     },
     "execution_count": 38,
     "metadata": {},
     "output_type": "execute_result"
    },
    {
     "data": {
      "image/png": "[encoded data removed]",
      "text/plain": [
       "<Figure size 432x288 with 1 Axes>"
      ]
     },
     "metadata": {
      "needs_background": "light"
     },
     "output_type": "display_data"
    }
   ],
   "source": [
    "num_added_and_deleted['growth'].hist(bins=100, range=(-100, 100))\n",
    "plt.semilogy()"
   ]
  },
  {
   "cell_type": "code",
   "execution_count": 9,
   "metadata": {},
   "outputs": [
    {
     "data": {
      "text/html": [
       "<div>\n",
       "<style scoped>\n",
       "    .dataframe tbody tr th:only-of-type {\n",
       "        vertical-align: middle;\n",
       "    }\n",
       "\n",
       "    .dataframe tbody tr th {\n",
       "        vertical-align: top;\n",
       "    }\n",
       "\n",
       "    .dataframe thead th {\n",
       "        text-align: right;\n",
       "    }\n",
       "</style>\n",
       "<table border=\"1\" class=\"dataframe\">\n",
       "  <thead>\n",
       "    <tr style=\"text-align: right;\">\n",
       "      <th></th>\n",
       "      <th>entry_id</th>\n",
       "      <th>version_x</th>\n",
       "      <th>version_y</th>\n",
       "      <th>num_sents_x</th>\n",
       "      <th>num_sents_y</th>\n",
       "      <th>num_deleted</th>\n",
       "      <th>num_added</th>\n",
       "      <th>growth</th>\n",
       "    </tr>\n",
       "  </thead>\n",
       "  <tbody>\n",
       "    <tr>\n",
       "      <th>0</th>\n",
       "      <td>1</td>\n",
       "      <td>0</td>\n",
       "      <td>1</td>\n",
       "      <td>45</td>\n",
       "      <td>47</td>\n",
       "      <td>0</td>\n",
       "      <td>1</td>\n",
       "      <td>1</td>\n",
       "    </tr>\n",
       "    <tr>\n",
       "      <th>1</th>\n",
       "      <td>1</td>\n",
       "      <td>1</td>\n",
       "      <td>2</td>\n",
       "      <td>47</td>\n",
       "      <td>43</td>\n",
       "      <td>8</td>\n",
       "      <td>4</td>\n",
       "      <td>-4</td>\n",
       "    </tr>\n",
       "    <tr>\n",
       "      <th>2</th>\n",
       "      <td>2</td>\n",
       "      <td>0</td>\n",
       "      <td>1</td>\n",
       "      <td>40</td>\n",
       "      <td>40</td>\n",
       "      <td>1</td>\n",
       "      <td>1</td>\n",
       "      <td>0</td>\n",
       "    </tr>\n",
       "    <tr>\n",
       "      <th>3</th>\n",
       "      <td>2</td>\n",
       "      <td>1</td>\n",
       "      <td>2</td>\n",
       "      <td>40</td>\n",
       "      <td>40</td>\n",
       "      <td>0</td>\n",
       "      <td>0</td>\n",
       "      <td>0</td>\n",
       "    </tr>\n",
       "    <tr>\n",
       "      <th>4</th>\n",
       "      <td>2</td>\n",
       "      <td>2</td>\n",
       "      <td>3</td>\n",
       "      <td>33</td>\n",
       "      <td>69</td>\n",
       "      <td>33</td>\n",
       "      <td>69</td>\n",
       "      <td>36</td>\n",
       "    </tr>\n",
       "    <tr>\n",
       "      <th>...</th>\n",
       "      <td>...</td>\n",
       "      <td>...</td>\n",
       "      <td>...</td>\n",
       "      <td>...</td>\n",
       "      <td>...</td>\n",
       "      <td>...</td>\n",
       "      <td>...</td>\n",
       "      <td>...</td>\n",
       "    </tr>\n",
       "    <tr>\n",
       "      <th>61513</th>\n",
       "      <td>23075</td>\n",
       "      <td>0</td>\n",
       "      <td>1</td>\n",
       "      <td>13</td>\n",
       "      <td>15</td>\n",
       "      <td>0</td>\n",
       "      <td>2</td>\n",
       "      <td>2</td>\n",
       "    </tr>\n",
       "    <tr>\n",
       "      <th>61514</th>\n",
       "      <td>23075</td>\n",
       "      <td>1</td>\n",
       "      <td>2</td>\n",
       "      <td>15</td>\n",
       "      <td>15</td>\n",
       "      <td>1</td>\n",
       "      <td>1</td>\n",
       "      <td>0</td>\n",
       "    </tr>\n",
       "    <tr>\n",
       "      <th>61515</th>\n",
       "      <td>23076</td>\n",
       "      <td>0</td>\n",
       "      <td>1</td>\n",
       "      <td>6</td>\n",
       "      <td>6</td>\n",
       "      <td>0</td>\n",
       "      <td>0</td>\n",
       "      <td>0</td>\n",
       "    </tr>\n",
       "    <tr>\n",
       "      <th>61516</th>\n",
       "      <td>23077</td>\n",
       "      <td>0</td>\n",
       "      <td>1</td>\n",
       "      <td>7</td>\n",
       "      <td>30</td>\n",
       "      <td>5</td>\n",
       "      <td>28</td>\n",
       "      <td>23</td>\n",
       "    </tr>\n",
       "    <tr>\n",
       "      <th>61517</th>\n",
       "      <td>23078</td>\n",
       "      <td>0</td>\n",
       "      <td>1</td>\n",
       "      <td>7</td>\n",
       "      <td>9</td>\n",
       "      <td>1</td>\n",
       "      <td>3</td>\n",
       "      <td>2</td>\n",
       "    </tr>\n",
       "  </tbody>\n",
       "</table>\n",
       "<p>61518 rows × 8 columns</p>\n",
       "</div>"
      ],
      "text/plain": [
       "       entry_id  version_x  version_y  num_sents_x  num_sents_y  num_deleted  \\\n",
       "0             1          0          1           45           47            0   \n",
       "1             1          1          2           47           43            8   \n",
       "2             2          0          1           40           40            1   \n",
       "3             2          1          2           40           40            0   \n",
       "4             2          2          3           33           69           33   \n",
       "...         ...        ...        ...          ...          ...          ...   \n",
       "61513     23075          0          1           13           15            0   \n",
       "61514     23075          1          2           15           15            1   \n",
       "61515     23076          0          1            6            6            0   \n",
       "61516     23077          0          1            7           30            5   \n",
       "61517     23078          0          1            7            9            1   \n",
       "\n",
       "       num_added  growth  \n",
       "0              1       1  \n",
       "1              4      -4  \n",
       "2              1       0  \n",
       "3              0       0  \n",
       "4             69      36  \n",
       "...          ...     ...  \n",
       "61513          2       2  \n",
       "61514          1       0  \n",
       "61515          0       0  \n",
       "61516         28      23  \n",
       "61517          3       2  \n",
       "\n",
       "[61518 rows x 8 columns]"
      ]
     },
     "execution_count": 9,
     "metadata": {},
     "output_type": "execute_result"
    }
   ],
   "source": [
    "num_added_and_deleted"
   ]
  },
  {
   "cell_type": "code",
   "execution_count": null,
   "metadata": {},
   "outputs": [],
   "source": []
  },
  {
   "cell_type": "code",
   "execution_count": null,
   "metadata": {},
   "outputs": [],
   "source": []
  },
  {
   "cell_type": "code",
   "execution_count": null,
   "metadata": {},
   "outputs": [],
   "source": []
  },
  {
   "cell_type": "code",
   "execution_count": 30,
   "metadata": {},
   "outputs": [],
   "source": [
    "udf.dump_output_to_app_readable(output, '../app/data/sample-data.json')"
   ]
  },
  {
   "cell_type": "code",
   "execution_count": 205,
   "metadata": {},
   "outputs": [],
   "source": [
    "import glob\n",
    "files = glob.glob(data_pathway + '/*')"
   ]
  },
  {
   "cell_type": "code",
   "execution_count": 206,
   "metadata": {},
   "outputs": [
    {
     "data": {
      "text/plain": [
       "['../../edit-pathways/data/diffengine-diffs/spark-output/ap-matched-sentences.db.gz',\n",
       " '../../edit-pathways/data/diffengine-diffs/spark-output/independent-matched-sentences.db.gz',\n",
       " '../../edit-pathways/data/diffengine-diffs/spark-output/bbc-2-matched-sentences.db.gz',\n",
       " '../../edit-pathways/data/diffengine-diffs/spark-output/nyt-matched-sentences.db',\n",
       " '../../edit-pathways/data/diffengine-diffs/spark-output/reuters-matched-sentences.db.gz',\n",
       " '../../edit-pathways/data/diffengine-diffs/spark-output/guardian-matched-sentences.db.gz',\n",
       " '../../edit-pathways/data/diffengine-diffs/spark-output/wp-matched-sentences.db.gz']"
      ]
     },
     "execution_count": 206,
     "metadata": {},
     "output_type": "execute_result"
    }
   ],
   "source": [
    "files"
   ]
  },
  {
   "cell_type": "code",
   "execution_count": 207,
   "metadata": {},
   "outputs": [],
   "source": [
    "# ('bbc', 848918, 1, 2)"
   ]
  },
  {
   "cell_type": "code",
   "execution_count": 208,
   "metadata": {
    "scrolled": true
   },
   "outputs": [
    {
     "name": "stdout",
     "output_type": "stream",
     "text": [
      "doing ap\n",
      "doing independent\n",
      "doing bbc\n",
      "doing nyt\n",
      "doing reuters\n",
      "doing guardian\n",
      "doing wp\n"
     ]
    }
   ],
   "source": [
    "all_output = []\n",
    "all_matched_sents = []\n",
    "all_split_sents = []\n",
    "all_num_added_and_deleted = []\n",
    "for f in files:\n",
    "    source = f.split('/')[-1].split('-')[0]\n",
    "    print('doing %s' % source)\n",
    "    if '.gz' in f:\n",
    "        ! gunzip $f\n",
    "        f = f.replace('.gz', '')\n",
    "\n",
    "    conn = sqlite3.connect(f)\n",
    "    num_added_and_deleted = pd.read_sql('''\n",
    "        SELECT\n",
    "            entry_id,\n",
    "            version_x,\n",
    "            version_y,\n",
    "            COUNT(DISTINCT sent_idx_x) as num_sents_x,\n",
    "            COUNT(DISTINCT sent_idx_y) as num_sents_y,        \n",
    "            SUM(sent_idx_y IS NULL) as num_deleted,\n",
    "            SUM(sent_idx_x IS NULL) as num_added\n",
    "        FROM matched_sentences \n",
    "        GROUP BY entry_id, version_x, version_y\n",
    "    ''', con=conn).assign(growth=lambda df: df['num_added'] - df['num_deleted'])\n",
    "    \n",
    "    num_added_and_deleted['source'] = source\n",
    "    all_num_added_and_deleted.append(num_added_and_deleted)\n",
    "    \n",
    "    candidate_set = (\n",
    "        num_added_and_deleted\n",
    "         .loc[lambda df: (df['growth'] > 2) & (df['growth'] < 10) &\n",
    "                         (df['num_deleted'] < 5) \n",
    "#                          & (df['version_x'] < 10) \n",
    "#                          & (df['num_sents_x'] < 20)\n",
    "#                          & (df['num_sents_x'] > 3)\n",
    "         ]\n",
    "    )\n",
    "    \n",
    "    join_keys = udf.get_join_keys(candidate_set)\n",
    "    matched_sentences, split_sentences = udf.get_data_from_sqlite_by_sentence_criteria(source, conn, join_keys)\n",
    "    output = udf.match_sentences(matched_sentences, split_sentences)\n",
    "    \n",
    "    all_matched_sents.append(matched_sentences)\n",
    "    all_split_sents.append(split_sentences)\n",
    "    all_output.append(output)\n",
    "    \n",
    "    # zipping up again \n",
    "    ! gzip $f"
   ]
  },
  {
   "cell_type": "code",
   "execution_count": 209,
   "metadata": {},
   "outputs": [],
   "source": [
    "all_matched_sents_df = pd.concat(all_matched_sents)"
   ]
  },
  {
   "cell_type": "code",
   "execution_count": 210,
   "metadata": {},
   "outputs": [],
   "source": [
    "all_output_df = pd.concat(all_output)"
   ]
  },
  {
   "cell_type": "code",
   "execution_count": 211,
   "metadata": {},
   "outputs": [],
   "source": [
    "all_split_sents_df = pd.concat(all_split_sents)"
   ]
  },
  {
   "cell_type": "code",
   "execution_count": 212,
   "metadata": {},
   "outputs": [],
   "source": [
    "all_num_added_and_deleted_df = pd.concat(all_num_added_and_deleted)"
   ]
  },
  {
   "cell_type": "code",
   "execution_count": 213,
   "metadata": {},
   "outputs": [
    {
     "data": {
      "text/html": [
       "<div>\n",
       "<style scoped>\n",
       "    .dataframe tbody tr th:only-of-type {\n",
       "        vertical-align: middle;\n",
       "    }\n",
       "\n",
       "    .dataframe tbody tr th {\n",
       "        vertical-align: top;\n",
       "    }\n",
       "\n",
       "    .dataframe thead th {\n",
       "        text-align: right;\n",
       "    }\n",
       "</style>\n",
       "<table border=\"1\" class=\"dataframe\">\n",
       "  <thead>\n",
       "    <tr style=\"text-align: right;\">\n",
       "      <th></th>\n",
       "      <th></th>\n",
       "      <th></th>\n",
       "      <th></th>\n",
       "      <th>nodes</th>\n",
       "      <th>arcs</th>\n",
       "    </tr>\n",
       "    <tr>\n",
       "      <th>source</th>\n",
       "      <th>entry_id</th>\n",
       "      <th>version_x</th>\n",
       "      <th>version_y</th>\n",
       "      <th></th>\n",
       "      <th></th>\n",
       "    </tr>\n",
       "  </thead>\n",
       "  <tbody>\n",
       "    <tr>\n",
       "      <th rowspan=\"5\" valign=\"top\">ap</th>\n",
       "      <th rowspan=\"5\" valign=\"top\">4</th>\n",
       "      <th>0</th>\n",
       "      <th>1</th>\n",
       "      <td>[{'version': 0, 'sent_idx': 0, 'sentence': 'HO...</td>\n",
       "      <td>[{'version_x': 0, 'version_y': 1, 'sent_idx_x'...</td>\n",
       "    </tr>\n",
       "    <tr>\n",
       "      <th>1</th>\n",
       "      <th>2</th>\n",
       "      <td>[{'version': 1, 'sent_idx': 0, 'sentence': 'HO...</td>\n",
       "      <td>[{'version_x': 1, 'version_y': 2, 'sent_idx_x'...</td>\n",
       "    </tr>\n",
       "    <tr>\n",
       "      <th>7</th>\n",
       "      <th>8</th>\n",
       "      <td>[{'version': 7, 'sent_idx': 0, 'sentence': 'HO...</td>\n",
       "      <td>[{'version_x': 7, 'version_y': 8, 'sent_idx_x'...</td>\n",
       "    </tr>\n",
       "    <tr>\n",
       "      <th>13</th>\n",
       "      <th>14</th>\n",
       "      <td>[{'version': 13, 'sent_idx': 0, 'sentence': 'H...</td>\n",
       "      <td>[{'version_x': 13, 'version_y': 14, 'sent_idx_...</td>\n",
       "    </tr>\n",
       "    <tr>\n",
       "      <th>14</th>\n",
       "      <th>15</th>\n",
       "      <td>[{'version': 14, 'sent_idx': 0, 'sentence': 'H...</td>\n",
       "      <td>[{'version_x': 14, 'version_y': 15, 'sent_idx_...</td>\n",
       "    </tr>\n",
       "  </tbody>\n",
       "</table>\n",
       "</div>"
      ],
      "text/plain": [
       "                                                                                 nodes  \\\n",
       "source entry_id version_x version_y                                                      \n",
       "ap     4        0         1          [{'version': 0, 'sent_idx': 0, 'sentence': 'HO...   \n",
       "                1         2          [{'version': 1, 'sent_idx': 0, 'sentence': 'HO...   \n",
       "                7         8          [{'version': 7, 'sent_idx': 0, 'sentence': 'HO...   \n",
       "                13        14         [{'version': 13, 'sent_idx': 0, 'sentence': 'H...   \n",
       "                14        15         [{'version': 14, 'sent_idx': 0, 'sentence': 'H...   \n",
       "\n",
       "                                                                                  arcs  \n",
       "source entry_id version_x version_y                                                     \n",
       "ap     4        0         1          [{'version_x': 0, 'version_y': 1, 'sent_idx_x'...  \n",
       "                1         2          [{'version_x': 1, 'version_y': 2, 'sent_idx_x'...  \n",
       "                7         8          [{'version_x': 7, 'version_y': 8, 'sent_idx_x'...  \n",
       "                13        14         [{'version_x': 13, 'version_y': 14, 'sent_idx_...  \n",
       "                14        15         [{'version_x': 14, 'version_y': 15, 'sent_idx_...  "
      ]
     },
     "execution_count": 213,
     "metadata": {},
     "output_type": "execute_result"
    }
   ],
   "source": [
    "all_output_df.head()"
   ]
  },
  {
   "cell_type": "code",
   "execution_count": 215,
   "metadata": {},
   "outputs": [
    {
     "data": {
      "text/plain": [
       "(288994, 2)"
      ]
     },
     "execution_count": 215,
     "metadata": {},
     "output_type": "execute_result"
    }
   ],
   "source": [
    "all_output_df.shape "
   ]
  },
  {
   "cell_type": "code",
   "execution_count": 219,
   "metadata": {},
   "outputs": [],
   "source": [
    "mkdir ../eda/data"
   ]
  },
  {
   "cell_type": "code",
   "execution_count": 220,
   "metadata": {},
   "outputs": [],
   "source": [
    "all_split_sents_df.to_csv('../eda/data/sentences-for-discourse-modelings.csv.gz', compression='gzip')"
   ]
  },
  {
   "cell_type": "code",
   "execution_count": 221,
   "metadata": {},
   "outputs": [],
   "source": [
    "all_matched_sents_df.to_csv('../eda/a/data/matched-sentences-for-discourse-modeling.csv.gz', compression='gzip')"
   ]
  },
  {
   "cell_type": "code",
   "execution_count": 222,
   "metadata": {},
   "outputs": [],
   "source": [
    "all_output_df.to_pickl../eda//eda/data/all-output-df.pkl')"
   ]
  },
  {
   "cell_type": "code",
   "execution_count": null,
   "metadata": {},
   "outputs": [],
   "source": []
  },
  {
   "cell_type": "code",
   "execution_count": null,
   "metadata": {},
   "outputs": [],
   "source": []
  },
  {
   "cell_type": "code",
   "execution_count": 72,
   "metadata": {},
   "outputs": [],
   "source": [
    "udf.dump_output_to_app_readable(all_output_df, '../app/data/breaking-news-data.json')"
   ]
  },
  {
   "cell_type": "code",
   "execution_count": 87,
   "metadata": {},
   "outputs": [],
   "source": [
    "import numpy as np"
   ]
  },
  {
   "cell_type": "code",
   "execution_count": 100,
   "metadata": {},
   "outputs": [
    {
     "data": {
      "text/plain": [
       "<matplotlib.collections.PolyCollection at 0x7fb662af4b90>"
      ]
     },
     "execution_count": 100,
     "metadata": {},
     "output_type": "execute_result"
    },
    {
     "data": {
      "image/png": "[encoded data removed]",
      "text/plain": [
       "<Figure size 432x288 with 1 Axes>"
      ]
     },
     "metadata": {
      "needs_background": "light"
     },
     "output_type": "display_data"
    }
   ],
   "source": [
    "all_num_added_and_deleted_df['growth'].hist(bins=50, range=(-50, 50))\n",
    "plt.ylabel('Count of Version Pairs')\n",
    "plt.xlabel('Net Growth')\n",
    "ymin, ymax = plt.ylim()\n",
    "plt.vlines(5, ymin, ymax, color='r')\n",
    "plt.vlines(20, ymin, ymax, color='r')\n",
    "plt.ylim(ymin, ymax)\n",
    "plt.fill_between(np.arange(5, 21), ymin, ymax, color='r', alpha=.2)"
   ]
  },
  {
   "cell_type": "code",
   "execution_count": 101,
   "metadata": {},
   "outputs": [
    {
     "data": {
      "text/plain": [
       "<matplotlib.collections.PolyCollection at 0x7fb662aa4310>"
      ]
     },
     "execution_count": 101,
     "metadata": {},
     "output_type": "execute_result"
    },
    {
     "data": {
      "image/png": "[encoded data removed]",
      "text/plain": [
       "<Figure size 432x288 with 1 Axes>"
      ]
     },
     "metadata": {
      "needs_background": "light"
     },
     "output_type": "display_data"
    }
   ],
   "source": [
    "all_num_added_and_deleted_df['num_deleted'].hist(bins=50, range=(0, 50))\n",
    "plt.ylabel('Count of Version Pairs')\n",
    "plt.xlabel('Num. Sents Deleted')\n",
    "ymin, ymax = plt.ylim()\n",
    "plt.vlines(5, ymin, ymax, color='r')\n",
    "plt.ylim(ymin, ymax)\n",
    "plt.fill_between(np.arange(0, 6), ymin, ymax, color='r', alpha=.2)"
   ]
  },
  {
   "cell_type": "code",
   "execution_count": 102,
   "metadata": {},
   "outputs": [
    {
     "data": {
      "text/plain": [
       "<matplotlib.collections.PolyCollection at 0x7fb663fd0450>"
      ]
     },
     "execution_count": 102,
     "metadata": {},
     "output_type": "execute_result"
    },
    {
     "data": {
      "image/png": "[encoded data removed]",
      "text/plain": [
       "<Figure size 432x288 with 1 Axes>"
      ]
     },
     "metadata": {
      "needs_background": "light"
     },
     "output_type": "display_data"
    }
   ],
   "source": [
    "all_num_added_and_deleted_df['version_x'].hist(bins=50, range=(0, 50))\n",
    "plt.ylabel('Count of Version Pairs')\n",
    "plt.xlabel('Version Number')\n",
    "ymin, ymax = plt.ylim()\n",
    "plt.vlines(10, ymin, ymax, color='r')\n",
    "plt.ylim(ymin, ymax)\n",
    "plt.fill_between(np.arange(0, 11), ymin, ymax, color='r', alpha=.2)"
   ]
  },
  {
   "cell_type": "code",
   "execution_count": 103,
   "metadata": {},
   "outputs": [
    {
     "data": {
      "text/plain": [
       "<matplotlib.collections.PolyCollection at 0x7fb661746590>"
      ]
     },
     "execution_count": 103,
     "metadata": {},
     "output_type": "execute_result"
    },
    {
     "data": {
      "image/png": "[encoded data removed]",
      "text/plain": [
       "<Figure size 432x288 with 1 Axes>"
      ]
     },
     "metadata": {
      "needs_background": "light"
     },
     "output_type": "display_data"
    }
   ],
   "source": [
    "all_num_added_and_deleted_df['num_sents_x'].hist(bins=50, range=(0, 100))\n",
    "plt.ylabel('Count of Version Pairs')\n",
    "plt.xlabel('Num Sentences (Old Version)')\n",
    "ymin, ymax = plt.ylim()\n",
    "plt.vlines(3, ymin, ymax, color='r')\n",
    "plt.vlines(20, ymin, ymax, color='r')\n",
    "plt.ylim(ymin, ymax)\n",
    "plt.fill_between(np.arange(3, 21), ymin, ymax, color='r', alpha=.2)"
   ]
  },
  {
   "cell_type": "code",
   "execution_count": null,
   "metadata": {},
   "outputs": [],
   "source": []
  },
  {
   "cell_type": "code",
   "execution_count": null,
   "metadata": {},
   "outputs": [],
   "source": []
  },
  {
   "cell_type": "code",
   "execution_count": null,
   "metadata": {},
   "outputs": [],
   "source": [
    "ls $data_pathway/../db/"
   ]
  },
  {
   "cell_type": "code",
   "execution_count": 116,
   "metadata": {},
   "outputs": [],
   "source": [
    "! gzip $data_pathway/../db/ap.db"
   ]
  },
  {
   "cell_type": "code",
   "execution_count": 117,
   "metadata": {},
   "outputs": [],
   "source": [
    "files = glob.glob(data_pathway + '/../db/*')"
   ]
  },
  {
   "cell_type": "code",
   "execution_count": 127,
   "metadata": {},
   "outputs": [],
   "source": [
    "files = list(filter(lambda x: 'newssniffer' in x or ('ap.db.gz' in x) or ('reuters' in x), files))"
   ]
  },
  {
   "cell_type": "code",
   "execution_count": null,
   "metadata": {},
   "outputs": [],
   "source": [
    "files"
   ]
  },
  {
   "cell_type": "code",
   "execution_count": null,
   "metadata": {},
   "outputs": [],
   "source": [
    "all_created = []\n",
    "for f in files:\n",
    "    source = f.split('/')[-1].split('-')[-1].replace('.db.gz', '')\n",
    "    print('doing %s' % source)\n",
    "    if '.gz' in f:\n",
    "        ! gunzip $f\n",
    "        f = f.replace('.gz', '')\n",
    "\n",
    "    conn = sqlite3.connect(f)\n",
    "    created = pd.read_sql('select entry_id, version, created from entryversion', con=conn)\n",
    "    \n",
    "    created['source'] = source\n",
    "    all_created.append(created)\n",
    "    \n",
    "    ! gzip $f"
   ]
  },
  {
   "cell_type": "code",
   "execution_count": 137,
   "metadata": {},
   "outputs": [],
   "source": [
    "all_created_time_df = pd.concat(all_created).assign(created=lambda df: pd.to_datetime(df['created']))"
   ]
  },
  {
   "cell_type": "code",
   "execution_count": 138,
   "metadata": {},
   "outputs": [],
   "source": [
    "all_created_time_df = (\n",
    "    all_created_time_df\n",
    "     .merge(\n",
    "         all_created_time_df.assign(new_version=lambda df: df['version'] - 1),\n",
    "         left_on=['source', 'entry_id', 'version'],\n",
    "         right_on=['source', 'entry_id', 'new_version']\n",
    "        )\n",
    ")"
   ]
  },
  {
   "cell_type": "code",
   "execution_count": 140,
   "metadata": {},
   "outputs": [],
   "source": [
    "all_created_time_df['diff'] = all_created_time_df.pipe(lambda df: df['created_y'] - df['created_x'])"
   ]
  },
  {
   "cell_type": "code",
   "execution_count": 149,
   "metadata": {},
   "outputs": [],
   "source": [
    "all_created_time_df['diff'] = all_created_time_df['diff'].apply(lambda x: x.total_seconds())"
   ]
  },
  {
   "cell_type": "code",
   "execution_count": 170,
   "metadata": {},
   "outputs": [],
   "source": [
    "name_mapper = {'washpo':'wp',\n",
    "'nytimes':'nyt'}"
   ]
  },
  {
   "cell_type": "code",
   "execution_count": 173,
   "metadata": {},
   "outputs": [],
   "source": [
    "merged_created_time_df = all_created_time_df.merge(\n",
    "    all_output_df.reset_index().assign(source=lambda df: df['source'].apply(lambda x: name_mapper.get(x, x))),\n",
    "    right_on=['source', 'entry_id', 'version_x', 'version_y'], \n",
    "    left_on=['source', 'entry_id', 'version_x', 'version_y'], \n",
    ")"
   ]
  },
  {
   "cell_type": "code",
   "execution_count": 184,
   "metadata": {},
   "outputs": [],
   "source": [
    "import seaborn as sns"
   ]
  },
  {
   "cell_type": "code",
   "execution_count": 187,
   "metadata": {},
   "outputs": [
    {
     "data": {
      "text/plain": [
       "Text(0.5, 0, 'Hours Between Versions')"
      ]
     },
     "execution_count": 187,
     "metadata": {},
     "output_type": "execute_result"
    },
    {
     "data": {
      "image/png": "[encoded data removed]",
      "text/plain": [
       "<Figure size 432x288 with 1 Axes>"
      ]
     },
     "metadata": {
      "needs_background": "light"
     },
     "output_type": "display_data"
    }
   ],
   "source": [
    "pd.concat([\n",
    "    (all_created_time_df['diff'] / (60 * 60)).to_frame('diff').assign(name='full'),\n",
    "    (merged_created_time_df['diff'] / (60 * 60)).to_frame('diff').assign(name='filtered')\n",
    "]).pipe(lambda df: sns.boxplot(y='name', x='diff', data=df, showfliers=False))\n",
    "plt.xlabel('Hours Between Versions')"
   ]
  },
  {
   "cell_type": "code",
   "execution_count": 188,
   "metadata": {},
   "outputs": [
    {
     "data": {
      "text/plain": [
       "(64194, 2)"
      ]
     },
     "execution_count": 188,
     "metadata": {},
     "output_type": "execute_result"
    }
   ],
   "source": [
    "all_output_df.shape "
   ]
  },
  {
   "cell_type": "code",
   "execution_count": null,
   "metadata": {},
   "outputs": [],
   "source": []
  },
  {
   "cell_type": "code",
   "execution_count": null,
   "metadata": {},
   "outputs": [],
   "source": []
  },
  {
   "cell_type": "code",
   "execution_count": null,
   "metadata": {},
   "outputs": [],
   "source": []
  },
  {
   "cell_type": "markdown",
   "metadata": {},
   "source": [
    "# Inspect"
   ]
  },
  {
   "cell_type": "code",
   "execution_count": 195,
   "metadata": {},
   "outputs": [],
   "source": [
    "key = ('bbc', 848918, 1, 2)"
   ]
  },
  {
   "cell_type": "code",
   "execution_count": 196,
   "metadata": {},
   "outputs": [
    {
     "data": {
      "text/plain": [
       "nodes    [{'version': 1, 'sent_idx': 0, 'sentence': '1....\n",
       "arcs     [{'version_x': 1, 'version_y': 2, 'sent_idx_x'...\n",
       "Name: (bbc, 848918, 1, 2), dtype: object"
      ]
     },
     "execution_count": 196,
     "metadata": {},
     "output_type": "execute_result"
    }
   ],
   "source": [
    "all_output_df.loc[key]"
   ]
  },
  {
   "cell_type": "code",
   "execution_count": 198,
   "metadata": {},
   "outputs": [
    {
     "data": {
      "text/plain": [
       "num_sents_x     9\n",
       "num_sents_y    22\n",
       "num_deleted     0\n",
       "num_added      13\n",
       "growth         13\n",
       "Name: (bbc, 848918, 1, 2), dtype: int64"
      ]
     },
     "execution_count": 198,
     "metadata": {},
     "output_type": "execute_result"
    }
   ],
   "source": [
    "(all_num_added_and_deleted_df\n",
    " .set_index(['source', 'entry_id', 'version_x', 'version_y'])\n",
    " .loc[key]\n",
    ")"
   ]
  },
  {
   "cell_type": "code",
   "execution_count": null,
   "metadata": {},
   "outputs": [],
   "source": [
    "(df['growth'] > 5) & (df['growth'] < 20)\n",
    "(df['num_deleted'] < 5) & (df['version_x'] < 10)\n",
    "(df['num_sents_x'] < 20) & (df['num_sents_x'] > 3)\n"
   ]
  },
  {
   "cell_type": "code",
   "execution_count": null,
   "metadata": {},
   "outputs": [],
   "source": []
  },
  {
   "cell_type": "code",
   "execution_count": null,
   "metadata": {},
   "outputs": [],
   "source": []
  },
  {
   "cell_type": "code",
   "execution_count": null,
   "metadata": {},
   "outputs": [],
   "source": []
  },
  {
   "cell_type": "code",
   "execution_count": null,
   "metadata": {},
   "outputs": [],
   "source": []
  },
  {
   "cell_type": "code",
   "execution_count": null,
   "metadata": {},
   "outputs": [],
   "source": []
  },
  {
   "cell_type": "code",
   "execution_count": 31,
   "metadata": {
    "scrolled": true
   },
   "outputs": [
    {
     "data": {
      "text/html": [
       "<div>\n",
       "<style scoped>\n",
       "    .dataframe tbody tr th:only-of-type {\n",
       "        vertical-align: middle;\n",
       "    }\n",
       "\n",
       "    .dataframe tbody tr th {\n",
       "        vertical-align: top;\n",
       "    }\n",
       "\n",
       "    .dataframe thead th {\n",
       "        text-align: right;\n",
       "    }\n",
       "</style>\n",
       "<table border=\"1\" class=\"dataframe\">\n",
       "  <thead>\n",
       "    <tr style=\"text-align: right;\">\n",
       "      <th></th>\n",
       "      <th>entry_id</th>\n",
       "      <th>version_x</th>\n",
       "      <th>version_y</th>\n",
       "      <th>sent_idx_x</th>\n",
       "      <th>sent_idx_y</th>\n",
       "      <th>avg_sentence_distance_x</th>\n",
       "      <th>avg_sentence_distance_y</th>\n",
       "    </tr>\n",
       "  </thead>\n",
       "  <tbody>\n",
       "    <tr>\n",
       "      <th>0</th>\n",
       "      <td>22962</td>\n",
       "      <td>0</td>\n",
       "      <td>1</td>\n",
       "      <td>26.0</td>\n",
       "      <td>40.0</td>\n",
       "      <td>0.000000e+00</td>\n",
       "      <td>0.000000e+00</td>\n",
       "    </tr>\n",
       "    <tr>\n",
       "      <th>1</th>\n",
       "      <td>22962</td>\n",
       "      <td>0</td>\n",
       "      <td>1</td>\n",
       "      <td>14.0</td>\n",
       "      <td>24.0</td>\n",
       "      <td>0.000000e+00</td>\n",
       "      <td>0.000000e+00</td>\n",
       "    </tr>\n",
       "    <tr>\n",
       "      <th>2</th>\n",
       "      <td>22962</td>\n",
       "      <td>0</td>\n",
       "      <td>1</td>\n",
       "      <td>6.0</td>\n",
       "      <td>18.0</td>\n",
       "      <td>NaN</td>\n",
       "      <td>0.000000e+00</td>\n",
       "    </tr>\n",
       "    <tr>\n",
       "      <th>3</th>\n",
       "      <td>22962</td>\n",
       "      <td>0</td>\n",
       "      <td>1</td>\n",
       "      <td>20.0</td>\n",
       "      <td>33.0</td>\n",
       "      <td>1.731226e-01</td>\n",
       "      <td>1.731226e-01</td>\n",
       "    </tr>\n",
       "    <tr>\n",
       "      <th>4</th>\n",
       "      <td>22962</td>\n",
       "      <td>0</td>\n",
       "      <td>1</td>\n",
       "      <td>18.0</td>\n",
       "      <td>30.0</td>\n",
       "      <td>1.694458e-01</td>\n",
       "      <td>1.694458e-01</td>\n",
       "    </tr>\n",
       "    <tr>\n",
       "      <th>5</th>\n",
       "      <td>22962</td>\n",
       "      <td>0</td>\n",
       "      <td>1</td>\n",
       "      <td>NaN</td>\n",
       "      <td>16.0</td>\n",
       "      <td>NaN</td>\n",
       "      <td>NaN</td>\n",
       "    </tr>\n",
       "    <tr>\n",
       "      <th>6</th>\n",
       "      <td>22962</td>\n",
       "      <td>0</td>\n",
       "      <td>1</td>\n",
       "      <td>3.0</td>\n",
       "      <td>6.0</td>\n",
       "      <td>4.937028e-07</td>\n",
       "      <td>4.937028e-07</td>\n",
       "    </tr>\n",
       "    <tr>\n",
       "      <th>7</th>\n",
       "      <td>22962</td>\n",
       "      <td>0</td>\n",
       "      <td>1</td>\n",
       "      <td>17.0</td>\n",
       "      <td>27.0</td>\n",
       "      <td>6.721860e-07</td>\n",
       "      <td>6.721860e-07</td>\n",
       "    </tr>\n",
       "    <tr>\n",
       "      <th>8</th>\n",
       "      <td>22962</td>\n",
       "      <td>0</td>\n",
       "      <td>1</td>\n",
       "      <td>5.0</td>\n",
       "      <td>12.0</td>\n",
       "      <td>0.000000e+00</td>\n",
       "      <td>0.000000e+00</td>\n",
       "    </tr>\n",
       "    <tr>\n",
       "      <th>9</th>\n",
       "      <td>22962</td>\n",
       "      <td>0</td>\n",
       "      <td>1</td>\n",
       "      <td>NaN</td>\n",
       "      <td>2.0</td>\n",
       "      <td>NaN</td>\n",
       "      <td>NaN</td>\n",
       "    </tr>\n",
       "    <tr>\n",
       "      <th>10</th>\n",
       "      <td>22962</td>\n",
       "      <td>0</td>\n",
       "      <td>1</td>\n",
       "      <td>21.0</td>\n",
       "      <td>34.0</td>\n",
       "      <td>5.562243e-07</td>\n",
       "      <td>5.562243e-07</td>\n",
       "    </tr>\n",
       "    <tr>\n",
       "      <th>11</th>\n",
       "      <td>22962</td>\n",
       "      <td>0</td>\n",
       "      <td>1</td>\n",
       "      <td>NaN</td>\n",
       "      <td>28.0</td>\n",
       "      <td>NaN</td>\n",
       "      <td>NaN</td>\n",
       "    </tr>\n",
       "    <tr>\n",
       "      <th>12</th>\n",
       "      <td>22962</td>\n",
       "      <td>0</td>\n",
       "      <td>1</td>\n",
       "      <td>15.0</td>\n",
       "      <td>25.0</td>\n",
       "      <td>6.057899e-07</td>\n",
       "      <td>6.057899e-07</td>\n",
       "    </tr>\n",
       "    <tr>\n",
       "      <th>13</th>\n",
       "      <td>22962</td>\n",
       "      <td>0</td>\n",
       "      <td>1</td>\n",
       "      <td>7.0</td>\n",
       "      <td>13.0</td>\n",
       "      <td>3.071805e-01</td>\n",
       "      <td>3.071805e-01</td>\n",
       "    </tr>\n",
       "    <tr>\n",
       "      <th>14</th>\n",
       "      <td>22962</td>\n",
       "      <td>0</td>\n",
       "      <td>1</td>\n",
       "      <td>6.0</td>\n",
       "      <td>17.0</td>\n",
       "      <td>NaN</td>\n",
       "      <td>0.000000e+00</td>\n",
       "    </tr>\n",
       "    <tr>\n",
       "      <th>15</th>\n",
       "      <td>22962</td>\n",
       "      <td>0</td>\n",
       "      <td>1</td>\n",
       "      <td>24.0</td>\n",
       "      <td>4.0</td>\n",
       "      <td>NaN</td>\n",
       "      <td>0.000000e+00</td>\n",
       "    </tr>\n",
       "    <tr>\n",
       "      <th>16</th>\n",
       "      <td>22962</td>\n",
       "      <td>0</td>\n",
       "      <td>1</td>\n",
       "      <td>2.0</td>\n",
       "      <td>5.0</td>\n",
       "      <td>3.211108e-01</td>\n",
       "      <td>3.211108e-01</td>\n",
       "    </tr>\n",
       "    <tr>\n",
       "      <th>17</th>\n",
       "      <td>22962</td>\n",
       "      <td>0</td>\n",
       "      <td>1</td>\n",
       "      <td>6.0</td>\n",
       "      <td>11.0</td>\n",
       "      <td>0.000000e+00</td>\n",
       "      <td>0.000000e+00</td>\n",
       "    </tr>\n",
       "    <tr>\n",
       "      <th>18</th>\n",
       "      <td>22962</td>\n",
       "      <td>0</td>\n",
       "      <td>1</td>\n",
       "      <td>8.0</td>\n",
       "      <td>9.0</td>\n",
       "      <td>3.938385e-01</td>\n",
       "      <td>3.938385e-01</td>\n",
       "    </tr>\n",
       "    <tr>\n",
       "      <th>19</th>\n",
       "      <td>22962</td>\n",
       "      <td>0</td>\n",
       "      <td>1</td>\n",
       "      <td>10.0</td>\n",
       "      <td>22.0</td>\n",
       "      <td>0.000000e+00</td>\n",
       "      <td>0.000000e+00</td>\n",
       "    </tr>\n",
       "    <tr>\n",
       "      <th>20</th>\n",
       "      <td>22962</td>\n",
       "      <td>0</td>\n",
       "      <td>1</td>\n",
       "      <td>22.0</td>\n",
       "      <td>36.0</td>\n",
       "      <td>1.061348e-01</td>\n",
       "      <td>1.039266e-01</td>\n",
       "    </tr>\n",
       "    <tr>\n",
       "      <th>21</th>\n",
       "      <td>22962</td>\n",
       "      <td>0</td>\n",
       "      <td>1</td>\n",
       "      <td>NaN</td>\n",
       "      <td>43.0</td>\n",
       "      <td>NaN</td>\n",
       "      <td>NaN</td>\n",
       "    </tr>\n",
       "    <tr>\n",
       "      <th>22</th>\n",
       "      <td>22962</td>\n",
       "      <td>0</td>\n",
       "      <td>1</td>\n",
       "      <td>27.0</td>\n",
       "      <td>44.0</td>\n",
       "      <td>3.883300e-01</td>\n",
       "      <td>3.882838e-01</td>\n",
       "    </tr>\n",
       "    <tr>\n",
       "      <th>23</th>\n",
       "      <td>22962</td>\n",
       "      <td>0</td>\n",
       "      <td>1</td>\n",
       "      <td>NaN</td>\n",
       "      <td>35.0</td>\n",
       "      <td>NaN</td>\n",
       "      <td>NaN</td>\n",
       "    </tr>\n",
       "    <tr>\n",
       "      <th>24</th>\n",
       "      <td>22962</td>\n",
       "      <td>0</td>\n",
       "      <td>1</td>\n",
       "      <td>11.0</td>\n",
       "      <td>14.0</td>\n",
       "      <td>4.983330e-07</td>\n",
       "      <td>4.983330e-07</td>\n",
       "    </tr>\n",
       "    <tr>\n",
       "      <th>25</th>\n",
       "      <td>22962</td>\n",
       "      <td>0</td>\n",
       "      <td>1</td>\n",
       "      <td>9.0</td>\n",
       "      <td>21.0</td>\n",
       "      <td>4.107698e-01</td>\n",
       "      <td>4.107698e-01</td>\n",
       "    </tr>\n",
       "    <tr>\n",
       "      <th>26</th>\n",
       "      <td>22962</td>\n",
       "      <td>0</td>\n",
       "      <td>1</td>\n",
       "      <td>4.0</td>\n",
       "      <td>10.0</td>\n",
       "      <td>0.000000e+00</td>\n",
       "      <td>0.000000e+00</td>\n",
       "    </tr>\n",
       "    <tr>\n",
       "      <th>27</th>\n",
       "      <td>22962</td>\n",
       "      <td>0</td>\n",
       "      <td>1</td>\n",
       "      <td>28.0</td>\n",
       "      <td>8.0</td>\n",
       "      <td>0.000000e+00</td>\n",
       "      <td>0.000000e+00</td>\n",
       "    </tr>\n",
       "    <tr>\n",
       "      <th>28</th>\n",
       "      <td>22962</td>\n",
       "      <td>0</td>\n",
       "      <td>1</td>\n",
       "      <td>NaN</td>\n",
       "      <td>32.0</td>\n",
       "      <td>NaN</td>\n",
       "      <td>NaN</td>\n",
       "    </tr>\n",
       "    <tr>\n",
       "      <th>29</th>\n",
       "      <td>22962</td>\n",
       "      <td>0</td>\n",
       "      <td>1</td>\n",
       "      <td>13.0</td>\n",
       "      <td>23.0</td>\n",
       "      <td>0.000000e+00</td>\n",
       "      <td>0.000000e+00</td>\n",
       "    </tr>\n",
       "    <tr>\n",
       "      <th>30</th>\n",
       "      <td>22962</td>\n",
       "      <td>0</td>\n",
       "      <td>1</td>\n",
       "      <td>12.0</td>\n",
       "      <td>NaN</td>\n",
       "      <td>NaN</td>\n",
       "      <td>NaN</td>\n",
       "    </tr>\n",
       "    <tr>\n",
       "      <th>31</th>\n",
       "      <td>22962</td>\n",
       "      <td>0</td>\n",
       "      <td>1</td>\n",
       "      <td>16.0</td>\n",
       "      <td>26.0</td>\n",
       "      <td>0.000000e+00</td>\n",
       "      <td>0.000000e+00</td>\n",
       "    </tr>\n",
       "    <tr>\n",
       "      <th>32</th>\n",
       "      <td>22962</td>\n",
       "      <td>0</td>\n",
       "      <td>1</td>\n",
       "      <td>25.0</td>\n",
       "      <td>39.0</td>\n",
       "      <td>6.272241e-07</td>\n",
       "      <td>6.272241e-07</td>\n",
       "    </tr>\n",
       "    <tr>\n",
       "      <th>33</th>\n",
       "      <td>22962</td>\n",
       "      <td>0</td>\n",
       "      <td>1</td>\n",
       "      <td>NaN</td>\n",
       "      <td>7.0</td>\n",
       "      <td>NaN</td>\n",
       "      <td>NaN</td>\n",
       "    </tr>\n",
       "    <tr>\n",
       "      <th>34</th>\n",
       "      <td>22962</td>\n",
       "      <td>0</td>\n",
       "      <td>1</td>\n",
       "      <td>29.0</td>\n",
       "      <td>46.0</td>\n",
       "      <td>5.726147e-07</td>\n",
       "      <td>5.726147e-07</td>\n",
       "    </tr>\n",
       "    <tr>\n",
       "      <th>35</th>\n",
       "      <td>22962</td>\n",
       "      <td>0</td>\n",
       "      <td>1</td>\n",
       "      <td>19.0</td>\n",
       "      <td>31.0</td>\n",
       "      <td>7.024660e-07</td>\n",
       "      <td>7.024660e-07</td>\n",
       "    </tr>\n",
       "    <tr>\n",
       "      <th>36</th>\n",
       "      <td>22962</td>\n",
       "      <td>0</td>\n",
       "      <td>1</td>\n",
       "      <td>0.0</td>\n",
       "      <td>3.0</td>\n",
       "      <td>4.284387e-01</td>\n",
       "      <td>4.284387e-01</td>\n",
       "    </tr>\n",
       "    <tr>\n",
       "      <th>37</th>\n",
       "      <td>22962</td>\n",
       "      <td>0</td>\n",
       "      <td>1</td>\n",
       "      <td>24.0</td>\n",
       "      <td>38.0</td>\n",
       "      <td>0.000000e+00</td>\n",
       "      <td>0.000000e+00</td>\n",
       "    </tr>\n",
       "    <tr>\n",
       "      <th>38</th>\n",
       "      <td>22962</td>\n",
       "      <td>0</td>\n",
       "      <td>1</td>\n",
       "      <td>NaN</td>\n",
       "      <td>15.0</td>\n",
       "      <td>NaN</td>\n",
       "      <td>NaN</td>\n",
       "    </tr>\n",
       "    <tr>\n",
       "      <th>39</th>\n",
       "      <td>22962</td>\n",
       "      <td>0</td>\n",
       "      <td>1</td>\n",
       "      <td>NaN</td>\n",
       "      <td>29.0</td>\n",
       "      <td>NaN</td>\n",
       "      <td>NaN</td>\n",
       "    </tr>\n",
       "    <tr>\n",
       "      <th>40</th>\n",
       "      <td>22962</td>\n",
       "      <td>0</td>\n",
       "      <td>1</td>\n",
       "      <td>23.0</td>\n",
       "      <td>37.0</td>\n",
       "      <td>4.994121e-07</td>\n",
       "      <td>4.994121e-07</td>\n",
       "    </tr>\n",
       "    <tr>\n",
       "      <th>41</th>\n",
       "      <td>22962</td>\n",
       "      <td>0</td>\n",
       "      <td>1</td>\n",
       "      <td>NaN</td>\n",
       "      <td>19.0</td>\n",
       "      <td>NaN</td>\n",
       "      <td>NaN</td>\n",
       "    </tr>\n",
       "    <tr>\n",
       "      <th>42</th>\n",
       "      <td>22962</td>\n",
       "      <td>0</td>\n",
       "      <td>1</td>\n",
       "      <td>NaN</td>\n",
       "      <td>41.0</td>\n",
       "      <td>NaN</td>\n",
       "      <td>NaN</td>\n",
       "    </tr>\n",
       "    <tr>\n",
       "      <th>43</th>\n",
       "      <td>22962</td>\n",
       "      <td>0</td>\n",
       "      <td>1</td>\n",
       "      <td>1.0</td>\n",
       "      <td>NaN</td>\n",
       "      <td>NaN</td>\n",
       "      <td>NaN</td>\n",
       "    </tr>\n",
       "    <tr>\n",
       "      <th>44</th>\n",
       "      <td>22962</td>\n",
       "      <td>0</td>\n",
       "      <td>1</td>\n",
       "      <td>NaN</td>\n",
       "      <td>42.0</td>\n",
       "      <td>NaN</td>\n",
       "      <td>NaN</td>\n",
       "    </tr>\n",
       "    <tr>\n",
       "      <th>45</th>\n",
       "      <td>22962</td>\n",
       "      <td>0</td>\n",
       "      <td>1</td>\n",
       "      <td>24.0</td>\n",
       "      <td>45.0</td>\n",
       "      <td>NaN</td>\n",
       "      <td>0.000000e+00</td>\n",
       "    </tr>\n",
       "    <tr>\n",
       "      <th>46</th>\n",
       "      <td>22962</td>\n",
       "      <td>0</td>\n",
       "      <td>1</td>\n",
       "      <td>NaN</td>\n",
       "      <td>0.0</td>\n",
       "      <td>NaN</td>\n",
       "      <td>NaN</td>\n",
       "    </tr>\n",
       "  </tbody>\n",
       "</table>\n",
       "</div>"
      ],
      "text/plain": [
       "    entry_id  version_x  version_y  sent_idx_x  sent_idx_y  \\\n",
       "0      22962          0          1        26.0        40.0   \n",
       "1      22962          0          1        14.0        24.0   \n",
       "2      22962          0          1         6.0        18.0   \n",
       "3      22962          0          1        20.0        33.0   \n",
       "4      22962          0          1        18.0        30.0   \n",
       "5      22962          0          1         NaN        16.0   \n",
       "6      22962          0          1         3.0         6.0   \n",
       "7      22962          0          1        17.0        27.0   \n",
       "8      22962          0          1         5.0        12.0   \n",
       "9      22962          0          1         NaN         2.0   \n",
       "10     22962          0          1        21.0        34.0   \n",
       "11     22962          0          1         NaN        28.0   \n",
       "12     22962          0          1        15.0        25.0   \n",
       "13     22962          0          1         7.0        13.0   \n",
       "14     22962          0          1         6.0        17.0   \n",
       "15     22962          0          1        24.0         4.0   \n",
       "16     22962          0          1         2.0         5.0   \n",
       "17     22962          0          1         6.0        11.0   \n",
       "18     22962          0          1         8.0         9.0   \n",
       "19     22962          0          1        10.0        22.0   \n",
       "20     22962          0          1        22.0        36.0   \n",
       "21     22962          0          1         NaN        43.0   \n",
       "22     22962          0          1        27.0        44.0   \n",
       "23     22962          0          1         NaN        35.0   \n",
       "24     22962          0          1        11.0        14.0   \n",
       "25     22962          0          1         9.0        21.0   \n",
       "26     22962          0          1         4.0        10.0   \n",
       "27     22962          0          1        28.0         8.0   \n",
       "28     22962          0          1         NaN        32.0   \n",
       "29     22962          0          1        13.0        23.0   \n",
       "30     22962          0          1        12.0         NaN   \n",
       "31     22962          0          1        16.0        26.0   \n",
       "32     22962          0          1        25.0        39.0   \n",
       "33     22962          0          1         NaN         7.0   \n",
       "34     22962          0          1        29.0        46.0   \n",
       "35     22962          0          1        19.0        31.0   \n",
       "36     22962          0          1         0.0         3.0   \n",
       "37     22962          0          1        24.0        38.0   \n",
       "38     22962          0          1         NaN        15.0   \n",
       "39     22962          0          1         NaN        29.0   \n",
       "40     22962          0          1        23.0        37.0   \n",
       "41     22962          0          1         NaN        19.0   \n",
       "42     22962          0          1         NaN        41.0   \n",
       "43     22962          0          1         1.0         NaN   \n",
       "44     22962          0          1         NaN        42.0   \n",
       "45     22962          0          1        24.0        45.0   \n",
       "46     22962          0          1         NaN         0.0   \n",
       "\n",
       "    avg_sentence_distance_x  avg_sentence_distance_y  \n",
       "0              0.000000e+00             0.000000e+00  \n",
       "1              0.000000e+00             0.000000e+00  \n",
       "2                       NaN             0.000000e+00  \n",
       "3              1.731226e-01             1.731226e-01  \n",
       "4              1.694458e-01             1.694458e-01  \n",
       "5                       NaN                      NaN  \n",
       "6              4.937028e-07             4.937028e-07  \n",
       "7              6.721860e-07             6.721860e-07  \n",
       "8              0.000000e+00             0.000000e+00  \n",
       "9                       NaN                      NaN  \n",
       "10             5.562243e-07             5.562243e-07  \n",
       "11                      NaN                      NaN  \n",
       "12             6.057899e-07             6.057899e-07  \n",
       "13             3.071805e-01             3.071805e-01  \n",
       "14                      NaN             0.000000e+00  \n",
       "15                      NaN             0.000000e+00  \n",
       "16             3.211108e-01             3.211108e-01  \n",
       "17             0.000000e+00             0.000000e+00  \n",
       "18             3.938385e-01             3.938385e-01  \n",
       "19             0.000000e+00             0.000000e+00  \n",
       "20             1.061348e-01             1.039266e-01  \n",
       "21                      NaN                      NaN  \n",
       "22             3.883300e-01             3.882838e-01  \n",
       "23                      NaN                      NaN  \n",
       "24             4.983330e-07             4.983330e-07  \n",
       "25             4.107698e-01             4.107698e-01  \n",
       "26             0.000000e+00             0.000000e+00  \n",
       "27             0.000000e+00             0.000000e+00  \n",
       "28                      NaN                      NaN  \n",
       "29             0.000000e+00             0.000000e+00  \n",
       "30                      NaN                      NaN  \n",
       "31             0.000000e+00             0.000000e+00  \n",
       "32             6.272241e-07             6.272241e-07  \n",
       "33                      NaN                      NaN  \n",
       "34             5.726147e-07             5.726147e-07  \n",
       "35             7.024660e-07             7.024660e-07  \n",
       "36             4.284387e-01             4.284387e-01  \n",
       "37             0.000000e+00             0.000000e+00  \n",
       "38                      NaN                      NaN  \n",
       "39                      NaN                      NaN  \n",
       "40             4.994121e-07             4.994121e-07  \n",
       "41                      NaN                      NaN  \n",
       "42                      NaN                      NaN  \n",
       "43                      NaN                      NaN  \n",
       "44                      NaN                      NaN  \n",
       "45                      NaN             0.000000e+00  \n",
       "46                      NaN                      NaN  "
      ]
     },
     "execution_count": 31,
     "metadata": {},
     "output_type": "execute_result"
    }
   ],
   "source": [
    "entry_id = 22962\n",
    "version_x = 0\n",
    "version_y = 1\n",
    "pd.read_sql('''\n",
    "    SELECT * FROM matched_sentences \n",
    "        WHERE entry_id = %s \n",
    "            AND version_x = %s\n",
    "            AND version_y = %s\n",
    "''' % (entry_id, version_x, version_y), con=conn)"
   ]
  },
  {
   "cell_type": "code",
   "execution_count": 32,
   "metadata": {
    "scrolled": true
   },
   "outputs": [
    {
     "data": {
      "text/plain": [
       "array(['<p>COLLEGE STATION, Texas (AP) — Kelly Bryant threw for 205 yards and a touchdown and ran for another score to help No. 2 Clemson escape with a 28-26 victory over Kellen Mond and Texas A&amp;',\n",
       "       'M on Saturday night.',\n",
       "       '</p> <p>Mond was spectacular in the second half, throwing for three touchdowns, with a 14-yard pass to Kendrick Rogers cutting the lead to 28-26 with 46 seconds left.',\n",
       "       'But his big performance came up just short when the 2-point conversion attempt was intercepted in the end zone.',\n",
       "       '</p> <p>\"The moment was not too big for him .', '.', '.',\n",
       "       'his composure in the game and his decision-making was excellent,\" Texas A&amp;',\n",
       "       'M coach Jimbo Fisher said.',\n",
       "       'Clemson coach Dabo Swinney said it was a shame anyone had to lose this one.',\n",
       "       '</p> <p>\"I thought we had opportunities to really get control of the game in the first half and we didn\\'t take advantage of it,\" Swinney said.',\n",
       "       '</p> <p>Mond finished with a career-high 430 yards passing and Rogers had 120 yards receiving and two TDs.',\n",
       "       '</p> <p>\"Just one play short and those small details matter the most,\" Mond said.',\n",
       "       \"</p> <p>Many in the crowd of more than 104,000 chanted Fisher's name as he walked off the field after the loss.\",\n",
       "       'Fisher, who came to A&amp;',\n",
       "       'M from Florida State on a 10-year, $75 million contract, said he appreciated the passion of the fans, but wished it could have come after a win.',\n",
       "       '</p> <p>\"It disappoints me that I couldn\\'t make the call to help them win the game,\" he said.',\n",
       "       '</p> <p>Freshman Trevor Lawrence started the second half but failed to move the ball effectively and Bryant took over and led the Tigers on two touchdown drives in the last five minutes of the third quarter to extend the lead to 15 points.',\n",
       "       '</p> <p>Mond got the Aggies to 28-20 when he threw a 14-yard pass to Quartney Davis with about 14 minutes left.',\n",
       "       \"</p> <p>The Aggies were driving with about two minutes left when Davis ran after making a catch and K'Von Wallace caused him to fumble the ball out of the back of the end zone for a touchback to give Clemson the ball.\",\n",
       "       'The call was reviewed but upheld and Fisher got in the face of one of the referees and yelled for a bit as Davis doubled over in disbelief and covered his face as he was consoled by teammates.',\n",
       "       \"</p> <p>Clemson's vaunted defensive line, led by first-team All-America end, Clelin Ferrell and tackle Christian Wilkins and second-team All-America tackle Dexter Lawrence, helped the Tigers pile up 10 tackles for losses and four sacks.\",\n",
       "       '</p> <p>THE TAKEAWAY   Clemson: Trevor Lawrence has a lot of raw talent and impressive arm strength, but the 18-year-old might not be quite ready to lead this team.',\n",
       "       'Though Bryant struggled to move the offense at times, he showed maturity and poise at key moments to come away with the win.',\n",
       "       '</p> <p>Texas A&amp;',\n",
       "       'M: This was a coming out part of sorts for Mond, who has played well sporadically but never controlled a game like he did on Saturday night.',\n",
       "       '</p> <p>POLL IMPLICATIONS</p> <p>The Tigers should keep their spot in the poll despite the scare by the Aggies.',\n",
       "       '</p> <p>UP NEXT</p> <p>Clemson: The Tigers host Georgia Southern next Saturday before opening ACC play on Sept. 22 at Georgia Tech.',\n",
       "       '</p> <p>Texas A&amp;',\n",
       "       'M: The Aggies play their third straight home next Saturday when Louisiana-Monroe visits before they travel to Alabama to open SEC play on Sept. 22.</p> <p>___</p> <p>More AP college football: https://apnews.com/tag/Collegefootball and http://www.twitter.com/AP_Top25</p>'],\n",
       "      dtype=object)"
      ]
     },
     "execution_count": 32,
     "metadata": {},
     "output_type": "execute_result"
    }
   ],
   "source": [
    "pd.read_sql('SELECT sentence from split_sentences WHERE entry_id = %s and version = %s' % (entry_id, version_x), con=conn)['sentence'].values"
   ]
  },
  {
   "cell_type": "code",
   "execution_count": 33,
   "metadata": {
    "scrolled": true
   },
   "outputs": [
    {
     "data": {
      "text/plain": [
       "array(['<p>COLLEGE STATION, Texas (AP) — Time after time, No. 2 Clemson missed opportunities to close out Texas A&amp;',\n",
       "       'M.',\n",
       "       '</p> <p>In the end, the Tigers stepped up and made the one play they had to make to secure the thrilling win.',\n",
       "       '</p> <p>Kelly Bryant threw for 205 yards and a touchdown and ran for another score to help Clemson escape with the 28-26 victory.',\n",
       "       '</p> <p>Texas A&amp;',\n",
       "       'M quarterback Kellen Mond was spectacular in the second half , throwing for three touchdowns, with a 14-yard pass to Kendrick Rogers cutting the lead to 28-26 with 46 seconds left.',\n",
       "       'But his big performance came up just short when the 2-point conversion attempt was intercepted in the end zone.',\n",
       "       '\"At the end of the day, it came down to the two-point play, and we got the interception,\" coach Dabo Swinney said.',\n",
       "       '</p> <p>Texas A&amp;',\n",
       "       \"M coach Jimbo Fisher was impressed with his sophomore quarterback's performance.\",\n",
       "       '</p> <p>\"The moment was not too big for him .', '.', '.',\n",
       "       'his composure in the game and his decision-making was excellent,\" he said.',\n",
       "       '</p> <p>Mond finished with a career-high 430 yards passing and Rogers had 120 yards receiving and two TDs.',\n",
       "       \"Swinney knew Mond was going to be difficult to handle, but didn't realize just how dangerous he could be.\",\n",
       "       '</p> <p>\"I was really impressed by their quarterback .', '.', '.',\n",
       "       'we didn\\'t do a great job of containing him,\" Swinney said. \"Even when we had the perfect call, we would be on the wrong shoulder, he would spin out, and next thing you know, he\\'s throwing some dang touchdown pass in the end zone.',\n",
       "       \"He's a heck of a player.\",\n",
       "       '\"</p> <p>Swinney said it was a shame anyone had to lose this one.',\n",
       "       '</p> <p>\"I thought we had opportunities to really get control of the game in the first half and we didn\\'t take advantage of it,\" Swinney said.',\n",
       "       \"</p> <p>Many in the crowd of more than 104,000 chanted Fisher's name as he walked off the field after the loss.\",\n",
       "       'Fisher, who came to A&amp;',\n",
       "       'M from Florida State on a 10-year, $75 million contract, said he appreciated the passion of the fans, but wished it could have come after a win.',\n",
       "       '</p> <p>\"It disappoints me that I couldn\\'t make the call to help them win the game,\" he said.',\n",
       "       '</p> <p>Freshman Trevor Lawrence started the second half but failed to move the ball effectively and Bryant took over and led the Tigers on two touchdown drives in the last five minutes of the third quarter to extend the lead to 15 points.',\n",
       "       \"Swinney said he'd continue to play both quarterbacks next week, but that he was happy with Bryant's work late.\",\n",
       "       '\"There\\'s no doubt that I thought Kelly there in the fourth quarter settled in,\" Swinney said. \"He gave us the experience we needed in that moment to come out of here with a win.',\n",
       "       '\"</p> <p>Mond got the Aggies to 28-20 when he threw a 14-yard pass to Quartney Davis with about 14 minutes left.',\n",
       "       \"</p> <p>The Aggies were driving with about two minutes left when Davis ran after making a catch and K'Von Wallace caused him to fumble the ball out of the back of the end zone for a touchback to give Clemson the ball.\",\n",
       "       '</p> <p>\"My main goal was to get it out of his hand because I knew it was a guarantee he would score if I (didn\\'t),\" Wallace said.',\n",
       "       '</p> <p>The call was reviewed but upheld and Fisher got in the face of one of the referees and yelled for a bit as Davis doubled over in disbelief and covered his face as he was consoled by teammates.',\n",
       "       \"</p> <p>Clemson's vaunted defensive line, led by first-team All-America end, Clelin Ferrell and tackle Christian Wilkins and second-team All-America tackle Dexter Lawrence, helped the Tigers pile up 10 tackles for losses and four sacks.\",\n",
       "       '</p> <p>Trevor Lawrence was 5 of 9 for 93 yards with a 64-yard touchdown pass to Diondre Overton that made it 14-3 early in the second quarter.',\n",
       "       '</p> <p>THE TAKEAWAY</p> <p>Clemson: Trevor Lawrence has a lot of raw talent and impressive arm strength, but the 18-year-old might not be quite ready to lead this team.',\n",
       "       'Though Bryant struggled to move the offense at times, he showed maturity and poise at key moments to come away with the win.',\n",
       "       '</p> <p>Texas A&amp;',\n",
       "       'M: This was a coming out part of sorts for Mond, who has played well sporadically but never controlled a game like he did on Saturday night.',\n",
       "       '</p> <p>POLL IMPLICATIONS</p> <p>The Tigers should keep their spot in the poll despite the scare by the Aggies.',\n",
       "       \"</p> <p>MOND'S BIG NIGHT</p> <p>Mond surpassed his previous high in yards passing by more than 100 yards with his previous best coming when he had 301 yards against Louisiana-Lafayette last season.\",\n",
       "       'His 40 attempts and 23 completions were also the most in his career and his three touchdown passes tied the most in his career.',\n",
       "       'His first TD pass on Saturday night came when he found Rogers on a 9-yard grab with about 4 1/2 minutes left in the third quarter.',\n",
       "       '</p> <p>His 430 yards passing were the most by an Aggie against a top-5 team since Johnny Manziel had 464 in a 49-42 loss to top-ranked Alabama in 2013.</p> <p>UP NEXT</p> <p>Clemson: The Tigers host Georgia Southern next Saturday before opening ACC play on Sept. 22 at Georgia Tech.',\n",
       "       '</p> <p>Texas A&amp;',\n",
       "       'M: The Aggies play their third straight home next Saturday when Louisiana-Monroe visits before they travel to Alabama to open SEC play on Sept. 22.</p> <p>___</p> <p>More AP college football: https://apnews.com/tag/Collegefootball and http://www.twitter.com/AP_Top25</p>'],\n",
       "      dtype=object)"
      ]
     },
     "execution_count": 33,
     "metadata": {},
     "output_type": "execute_result"
    }
   ],
   "source": [
    "pd.read_sql('SELECT sentence from split_sentences WHERE entry_id = %s and version = %s' % (entry_id, version_y), con=conn)['sentence'].values"
   ]
  },
  {
   "cell_type": "code",
   "execution_count": null,
   "metadata": {},
   "outputs": [],
   "source": []
  },
  {
   "cell_type": "code",
   "execution_count": null,
   "metadata": {},
   "outputs": [],
   "source": []
  },
  {
   "cell_type": "code",
   "execution_count": null,
   "metadata": {},
   "outputs": [],
   "source": []
  }
 ],
 "metadata": {
  "hide_input": false,
  "kernelspec": {
   "display_name": "Python 3",
   "language": "python",
   "name": "python3"
  },
  "language_info": {
   "codemirror_mode": {
    "name": "ipython",
    "version": 3
   },
   "file_extension": ".py",
   "mimetype": "text/x-python",
   "name": "python",
   "nbconvert_exporter": "python",
   "pygments_lexer": "ipython3",
   "version": "3.7.6"
  }
 },
 "nbformat": 4,
 "nbformat_minor": 4
}
